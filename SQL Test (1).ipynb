{
 "cells": [
  {
   "cell_type": "code",
   "execution_count": 105,
   "id": "308be204",
   "metadata": {},
   "outputs": [
    {
     "name": "stdout",
     "output_type": "stream",
     "text": [
      "+----+-------------+----------------+---------------------+-----------+\n",
      "|    |   visitorID |   visit number | marketing channel   |   revenue |\n",
      "|----+-------------+----------------+---------------------+-----------|\n",
      "|  0 |    14590274 |              1 | direct              |           |\n",
      "|  1 |    15692456 |              1 | paid search         |    1204.5 |\n",
      "|  2 |    13650284 |              3 | paid search         |    1399   |\n",
      "|  3 |    13892640 |              1 | seo                 |           |\n",
      "|  4 |    14590274 |              2 | display             |           |\n",
      "|  5 |    14590274 |              3 | email               |    1593.9 |\n",
      "|  6 |    13892640 |              2 | affiliates          |    2010   |\n",
      "+----+-------------+----------------+---------------------+-----------+\n"
     ]
    }
   ],
   "source": [
    "import mysql.connector\n",
    "from tabulate import tabulate\n",
    "\n",
    "connection = mysql.connector.connect(host='127.0.0.1',\n",
    "                                         database='test_db',\n",
    "                                         user='root',\n",
    "                                         password='user@1234')\n",
    "\n",
    "mycursor=connection.cursor()\n",
    "mycursor.execute(\"SELECT * FROM sales_table\")\n",
    "myresult = mycursor.fetchall()\n",
    "\n",
    "\n",
    "print(tabulate(myresult, headers=['visitorID', 'visit number','marketing channel', 'revenue'], tablefmt='psql'))"
   ]
  },
  {
   "cell_type": "code",
   "execution_count": 106,
   "id": "7a370e85",
   "metadata": {},
   "outputs": [
    {
     "name": "stdout",
     "output_type": "stream",
     "text": [
      "+----+-------------+----------------+---------------------+-----------+\n",
      "|    |   visitorID |   visit number | marketing channel   |   revenue |\n",
      "|----+-------------+----------------+---------------------+-----------|\n",
      "|  2 |    13650284 |              3 | paid search         |    1399   |\n",
      "|  3 |    13892640 |              1 | seo                 |           |\n",
      "|  6 |    13892640 |              2 | affiliates          |    2010   |\n",
      "|  0 |    14590274 |              1 | direct              |           |\n",
      "|  4 |    14590274 |              2 | display             |           |\n",
      "|  5 |    14590274 |              3 | email               |    1593.9 |\n",
      "|  1 |    15692456 |              1 | paid search         |    1204.5 |\n",
      "+----+-------------+----------------+---------------------+-----------+\n"
     ]
    }
   ],
   "source": [
    "connection = mysql.connector.connect(host='127.0.0.1',\n",
    "                                         database='test_db',\n",
    "                                         user='root',\n",
    "                                         password='user@1234')\n",
    "\n",
    "mycursor=connection.cursor()\n",
    "mycursor.execute(\"SELECT * FROM sales_table ORDER BY visitor_id ASC\")\n",
    "myresult = mycursor.fetchall()\n",
    "\n",
    "\n",
    "print(tabulate(myresult, headers=['visitorID', 'visit number','marketing channel', 'revenue'], tablefmt='psql'))\n",
    "\n"
   ]
  },
  {
   "cell_type": "code",
   "execution_count": 107,
   "id": "f5f82da2",
   "metadata": {},
   "outputs": [
    {
     "name": "stdout",
     "output_type": "stream",
     "text": [
      "+----+-------------+-----------------+-----------------------+------------+-----------+\n",
      "|    |   visitorID |   transactionID | product sku           |   quantity |   revenue |\n",
      "|----+-------------+-----------------+-----------------------+------------+-----------|\n",
      "|  0 |    15692456 |        14467578 | OEX-6908TS.WTA-PUM-PG |          1 |    1204.5 |\n",
      "|  1 |    13650284 |        34547632 | HD-LD53-TJ            |          2 |    1399   |\n",
      "|  2 |    14590274 |        35476845 | 4H-IPQS-032           |          2 |    1593.9 |\n",
      "|  3 |    13892640 |        23587651 | 4H-VATJ-769           |          1 |    2010   |\n",
      "+----+-------------+-----------------+-----------------------+------------+-----------+\n"
     ]
    }
   ],
   "source": [
    "connection = mysql.connector.connect(host='127.0.0.1',\n",
    "                                         database='test_db',\n",
    "                                         user='root',\n",
    "                                         password='user@1234')\n",
    "\n",
    "mycursor=connection.cursor()\n",
    "mycursor.execute(\"SELECT * FROM sales_table2\")\n",
    "myresult = mycursor.fetchall()\n",
    "\n",
    "\n",
    "print(tabulate(myresult, headers=['visitorID', 'transactionID','product sku','quantity', 'revenue'], tablefmt='psql'))\n",
    "               \n",
    "               \n",
    "               "
   ]
  },
  {
   "cell_type": "code",
   "execution_count": 108,
   "id": "63a2df75",
   "metadata": {},
   "outputs": [
    {
     "name": "stdout",
     "output_type": "stream",
     "text": [
      "+----+-----------------------+-----------------------+-----------------+\n",
      "|    | product sku           | brand                 | department      |\n",
      "|----+-----------------------+-----------------------+-----------------|\n",
      "|  0 | OEX-6908TS.WTA-PUM-PG | Essentials for Living | Furniture       |\n",
      "|  1 | HD-LD53-TJ            | Halo Styles           | Outdoor         |\n",
      "|  2 | 4H-IPQS-032           | Four Hands            | Mirrors and Art |\n",
      "|  3 | 4H-VATJ-769           | Four Hands            | Furniture       |\n",
      "|  4 | HD-LD73-EJ            | Halo Styles           | Rugs            |\n",
      "+----+-----------------------+-----------------------+-----------------+\n"
     ]
    }
   ],
   "source": [
    "mycursor=connection.cursor()\n",
    "mycursor.execute(\"SELECT * FROM product_table\")\n",
    "myresult = mycursor.fetchall()\n",
    "\n",
    "\n",
    "print(tabulate(myresult, headers=['product sku', 'brand','department'], tablefmt='psql'))\n",
    "               \n",
    "               \n",
    "               "
   ]
  },
  {
   "cell_type": "code",
   "execution_count": 109,
   "id": "ba993290",
   "metadata": {},
   "outputs": [
    {
     "name": "stdout",
     "output_type": "stream",
     "text": [
      "+-----------------------+--------------------+-----------------+-----------------+\n",
      "| PRODUCT_SKU           |   sum_of_purchases |   total_revenue | department      |\n",
      "|-----------------------+--------------------+-----------------+-----------------|\n",
      "| OEX-6908TS.WTA-PUM-PG |                  1 |          1204.5 | Furniture       |\n",
      "| HD-LD53-TJ            |                  2 |          1399   | Outdoor         |\n",
      "| 4H-IPQS-032           |                  2 |          1593.9 | Mirrors and Art |\n",
      "| 4H-VATJ-769           |                  1 |          2010   | Furniture       |\n",
      "+-----------------------+--------------------+-----------------+-----------------+\n"
     ]
    }
   ],
   "source": [
    "mycursor=connection.cursor()\n",
    "mycursor.execute(\"SELECT p.product_sku AS PRODUCT_SKU,SUM(s2.quantity) AS sum_of_purchases,SUM(s2.revenue) AS total_revenue,p.department FROM sales_table2 s2,product_table p WHERE s2.PRODUCT_SKU=p.PRODUCT_SKU GROUP BY p.PRODUCT_SKU,p.department\")\n",
    "myresult = mycursor.fetchall()\n",
    "\n",
    "\n",
    "print(tabulate(myresult,headers=['PRODUCT_SKU','sum_of_purchases', 'total_revenue','department'], tablefmt='psql'))\n",
    "\n"
   ]
  },
  {
   "cell_type": "code",
   "execution_count": 113,
   "id": "954883e7",
   "metadata": {},
   "outputs": [
    {
     "name": "stdout",
     "output_type": "stream",
     "text": [
      "+-----------+------------+\n",
      "|   visitID | date       |\n",
      "|-----------+------------|\n",
      "|  15692456 | 2022-02-01 |\n",
      "|  13650284 | 2022-10-11 |\n",
      "|  14590274 | 2022-05-15 |\n",
      "|  13892640 | 2022-06-03 |\n",
      "|  15692456 | 2022-06-05 |\n",
      "|  14590274 | 2022-05-16 |\n",
      "|  14590274 | 2022-02-01 |\n",
      "+-----------+------------+\n"
     ]
    }
   ],
   "source": [
    "mycursor=connection.cursor()\n",
    "mycursor.execute(\"SELECT visit_id,date FROM event_table\")\n",
    "myresult = mycursor.fetchall()\n",
    "\n",
    "\n",
    "print(tabulate(myresult, headers=['visitID','date'], tablefmt='psql'))"
   ]
  },
  {
   "cell_type": "code",
   "execution_count": 139,
   "id": "dc58e00f",
   "metadata": {},
   "outputs": [
    {
     "name": "stdout",
     "output_type": "stream",
     "text": [
      "+----------------------------------------------------------------------------------------------------------------------------------------------------------+\n",
      "| hits                                                                                                                                                     |\n",
      "|----------------------------------------------------------------------------------------------------------------------------------------------------------|\n",
      "| “eventInfo”: {“eventCategory”: “GNAV-Furniture-Living_Room”,“eventAction”: “click”, “eventLabel” : ”GNAV : Sofas & Sectionals”}                          |\n",
      "| “eventInfo”: {“eventCategory”: “GNAV-Furniture-Bedroom”,                                                                                                 |\n",
      "| “eventAction”: “click”, “eventLabel” : ”GNAV : Beds”}                                                                                                    |\n",
      "| “eventInfo”: {“eventCategory”: “Customer Type”, “eventAction”: “Logged In”, “eventLabel” : ”Trade”}                                                      |\n",
      "| “eventInfo”: {“eventCategory”: “KKH_HP-Hero_Slider”, “eventAction”: “click”, “eventLabel” : ”HP Slider : SHOP DINING -01/31/23”}                         |\n",
      "| “eventInfo”: {“eventCategory”: “ Vedran-Partnership-LP”, “eventAction”: “click”, “eventLabel” : ”Olivia Rinks Bedroom Makeover : Connect with Designer”} |\n",
      "| “eventInfo”: {“eventCategory”: “GNAV-Lighting”, “eventAction”: “click”, “eventLabel” : ”GNAV : Table Lamps”}                                             |\n",
      "| “eventInfo”: {“eventCategory”: “Carousel Clicks”, “eventAction”: “Best Sellers”, “eventLabel” : ”/Product/Detail/41703”}                                 |\n",
      "+----------------------------------------------------------------------------------------------------------------------------------------------------------+\n"
     ]
    }
   ],
   "source": [
    "mycursor=connection.cursor()\n",
    "mycursor.execute(\"SELECT hits FROM event_table\")\n",
    "myresult = mycursor.fetchall()\n",
    "\n",
    "\n",
    "print(tabulate(myresult, headers=['hits'], tablefmt='psql'))"
   ]
  },
  {
   "cell_type": "code",
   "execution_count": 162,
   "id": "4bd48d72",
   "metadata": {},
   "outputs": [
    {
     "name": "stdout",
     "output_type": "stream",
     "text": [
      "+----------------+---------------------------------------------------------------------------------------------------------------------------------+------------+\n",
      "|   event labels | number events occurred                                                                                                          | date       |\n",
      "|----------------+---------------------------------------------------------------------------------------------------------------------------------+------------|\n",
      "|              1 | “eventInfo”: {“eventCategory”: “GNAV-Furniture-Living_Room”,“eventAction”: “click”, “eventLabel” : ”GNAV : Sofas & Sectionals”} | 2022-02-01 |\n",
      "|              1 | “eventInfo”: {“eventCategory”: “GNAV-Furniture-Bedroom”,                                                                        | 2022-10-11 |\n",
      "|                | “eventAction”: “click”, “eventLabel” : ”GNAV : Beds”}                                                                           |            |\n",
      "|              1 | “eventInfo”: {“eventCategory”: “GNAV-Lighting”, “eventAction”: “click”, “eventLabel” : ”GNAV : Table Lamps”}                    | 2022-05-16 |\n",
      "+----------------+---------------------------------------------------------------------------------------------------------------------------------+------------+\n"
     ]
    }
   ],
   "source": [
    "mycursor=connection.cursor()\n",
    "mycursor.execute(\"SELECT COUNT(hits) AS number_events_occurred,hits AS event_labels, date FROM event_table WHERE hits LIKE'%GNAV%' GROUP BY hits,date\")\n",
    "myresult = mycursor.fetchall()\n",
    "\n",
    "\n",
    "print(tabulate(myresult, headers=['event labels','number events occurred','date'], tablefmt='psql'))\n",
    "\n",
    "\n"
   ]
  },
  {
   "cell_type": "code",
   "execution_count": null,
   "id": "6f291288",
   "metadata": {},
   "outputs": [],
   "source": []
  }
 ],
 "metadata": {
  "kernelspec": {
   "display_name": "Python 3 (ipykernel)",
   "language": "python",
   "name": "python3"
  },
  "language_info": {
   "codemirror_mode": {
    "name": "ipython",
    "version": 3
   },
   "file_extension": ".py",
   "mimetype": "text/x-python",
   "name": "python",
   "nbconvert_exporter": "python",
   "pygments_lexer": "ipython3",
   "version": "3.10.9"
  }
 },
 "nbformat": 4,
 "nbformat_minor": 5
}
